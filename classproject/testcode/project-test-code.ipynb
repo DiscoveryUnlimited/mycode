{
 "cells": [
  {
   "cell_type": "code",
   "execution_count": 1,
   "metadata": {},
   "outputs": [
    {
     "name": "stdout",
     "output_type": "stream",
     "text": [
      "There are 14 people in space.\n",
      "\n",
      "People and Craft:\n",
      "\n",
      "Kjell Lindgren : ISS\n",
      "Bob Hines : ISS\n",
      "Samantha Cristoforetti : ISS\n",
      "Jessica Watkins : ISS\n",
      "Cai Xuzhe : Tiangong\n",
      "Chen Dong : Tiangong\n",
      "Liu Yang : Tiangong\n",
      "Sergey Prokopyev : ISS\n",
      "Dmitry Petelin : ISS\n",
      "Frank Rubio : ISS\n",
      "Nicole Mann : Endurance\n",
      "Josh Cassada : Endurance\n",
      "Koichi Wakata : Endurance\n",
      "Anna Kikina : Endurance\n"
     ]
    }
   ],
   "source": [
    "# People in Space\n",
    "\n",
    "# imports\n",
    "import requests\n",
    "import json\n",
    "\n",
    "#API URL\n",
    "peopleURL = \"http://api.open-notify.org/astros.json\"\n",
    "\n",
    "# make a request with the request library\n",
    "peoplerequest = requests.get(peopleURL)\n",
    "\n",
    "# strip off json attachment from our response\n",
    "peopledata = peoplerequest.json()\n",
    "\n",
    "people = peopledata.get('people')\n",
    "num = peopledata.get('number')\n",
    "\n",
    "names = []\n",
    "crafts = []\n",
    "for person in people:\n",
    "    names.append(person.get('name'))\n",
    "    crafts.append(person.get('craft'))\n",
    "\n",
    "# display space data\n",
    "print(\"There are \"+ str(num) + \" people in space.\\n\")\n",
    "print(\"People and Craft:\\n\")\n",
    "for i in range(len(names)):\n",
    "    print(names[i] + \" : \" + crafts[i])"
   ]
  },
  {
   "cell_type": "code",
   "execution_count": 2,
   "metadata": {},
   "outputs": [],
   "source": [
    "#Picture of the day\n",
    "\n",
    "#imports\n",
    "import requests\n",
    "import json\n",
    "from PIL import Image\n",
    "import urllib.request\n",
    "\n",
    "#API URL\n",
    "NASA_API = \"https://api.nasa.gov/planetary/apod?\"\n",
    "NASA_KEY = \"api_key=\" + \"ZqrQl0M6SGoFZNND3HphsebfoAVJ8AfDjA7hVpgj\"\n",
    "\n",
    "# make a call to NASAAPI with our key\n",
    "picrequest = requests.get(NASA_API + NASA_KEY)\n",
    "\n",
    "# json\n",
    "picdata = picrequest.json()\n",
    "\n",
    "\n",
    "picURL = picdata[\"url\"]\n",
    "picTitle = picdata[\"title\"]\n",
    "\n",
    "# file name\n",
    "filename = \"./dailypic.jpg\"\n",
    "\n",
    "# save URL to file\n",
    "urllib.request.urlretrieve(picURL, filename)\n",
    "\n",
    "#Resize image\n",
    " \n",
    "# Opens a image in RGB mode\n",
    "im = Image.open(filename)\n",
    " \n",
    "# Size of the image in pixels (size of original image)\n",
    "width, height = im.size\n",
    "\n",
    "# resize\n",
    "new_width = 500\n",
    "new_height = new_width*(height/width)\n",
    "newsize = (new_width, int(new_height))\n",
    "\n",
    "\n",
    "im.thumbnail(newsize)\n",
    "# Shows the image in image viewer\n",
    "im.save(filename, \"JPEG\")\n"
   ]
  },
  {
   "cell_type": "code",
   "execution_count": 1,
   "metadata": {},
   "outputs": [
    {
     "name": "stdout",
     "output_type": "stream",
     "text": [
      "Planets:\n",
      "\n",
      "Uranus\n",
      "Neptune\n",
      "Jupiter\n",
      "Mars\n",
      "Mercury\n",
      "Saturn\n",
      "Venus\n"
     ]
    }
   ],
   "source": [
    "#Solar System Bodies\n",
    "\n",
    "#imports\n",
    "import requests\n",
    "import json\n",
    "from PIL import Image\n",
    "import urllib.request\n",
    "\n",
    "#API URL\n",
    "SS_API = \"https://api.le-systeme-solaire.net/rest/bodies/\"\n",
    "\n",
    "# make a call to NASAAPI with our key\n",
    "bodiesrequest = requests.get(SS_API)\n",
    "\n",
    "# json\n",
    "bodydata = bodiesrequest.json()\n",
    "\n",
    "\n",
    "bodies = bodydata.get('bodies')\n",
    "\n",
    "names = []\n",
    "\n",
    "for body in bodies:\n",
    "    if body.get('isPlanet') and body.get('englishName') != \"Earth\":\n",
    "        names.append(body.get('englishName'))\n",
    "\n",
    "\n",
    "# display space data\n",
    "\n",
    "print(\"Planets:\\n\")\n",
    "for i in range(len(names)):\n",
    "    print(names[i])"
   ]
  },
  {
   "cell_type": "code",
   "execution_count": null,
   "metadata": {},
   "outputs": [],
   "source": []
  }
 ],
 "metadata": {
  "kernelspec": {
   "display_name": "Python 3.9.12 ('base')",
   "language": "python",
   "name": "python3"
  },
  "language_info": {
   "codemirror_mode": {
    "name": "ipython",
    "version": 3
   },
   "file_extension": ".py",
   "mimetype": "text/x-python",
   "name": "python",
   "nbconvert_exporter": "python",
   "pygments_lexer": "ipython3",
   "version": "3.9.12"
  },
  "orig_nbformat": 4,
  "vscode": {
   "interpreter": {
    "hash": "68d61718d08185c403ef5d8308badc69d889d7fc9501f8150a08872890b15626"
   }
  }
 },
 "nbformat": 4,
 "nbformat_minor": 2
}
